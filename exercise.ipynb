{
 "cells": [
  {
   "cell_type": "markdown",
   "metadata": {},
   "source": [
    "## Object-Relational Mapper exercise\n",
    "\n",
    "\n",
    "---\n",
    "\n",
    "Using relational databases directly in programming languages other than SQL can be tedious and error-prone. One of the common approaches is to use an ORM (object-relational mapper) for that.\n",
    "\n",
    "\n",
    "One of the popular ORMs for Python is SQLAlchemy.\n",
    "\n",
    "https://www.sqlalchemy.org/\n",
    "\n",
    "---\n",
    "\n",
    "For the purpose of the exercise, I will create an in-memory SQLite database:"
   ]
  },
  {
   "cell_type": "code",
   "execution_count": 47,
   "metadata": {},
   "outputs": [],
   "source": [
    "import sqlalchemy as sa\n",
    "from sqlalchemy.ext.declarative import declarative_base\n",
    "from decimal import Decimal\n",
    "import warnings\n",
    "\n",
    "from sqlalchemy.orm import relationship\n",
    "\n",
    "\n",
    "warnings.filterwarnings(\"ignore\")\n",
    "\n",
    "engine = sa.create_engine('sqlite:///:memory:')\n",
    "Base = declarative_base()\n",
    "session = sa.orm.sessionmaker(bind=engine)()\n"
   ]
  },
  {
   "cell_type": "markdown",
   "metadata": {},
   "source": [
    "Now, I will create three tables for the exercise:"
   ]
  },
  {
   "cell_type": "code",
   "execution_count": 48,
   "metadata": {},
   "outputs": [],
   "source": [
    "\n",
    "class OrderItem(Base):\n",
    "    __tablename__ = 'order'\n",
    "\n",
    "    id = sa.Column('id', sa.Integer, primary_key=True)\n",
    "    product_id = sa.Column('product_id', sa.Integer, sa.ForeignKey('product.id'))\n",
    "    user_id = sa.Column('user_id', sa.Integer, sa.ForeignKey('user.id'))\n",
    "    qty = sa.Column('qty', sa.Integer)\n",
    "\n",
    "class Product(Base):\n",
    "    __tablename__ = 'product'\n",
    "\n",
    "    id = sa.Column('id', sa.Integer, primary_key=True)\n",
    "    name = sa.Column('name', sa.Text)\n",
    "    price = sa.Column('price', sa.Numeric(14,2))\n",
    "\n",
    "class User(Base):\n",
    "    __tablename__ = 'user'\n",
    "\n",
    "    id = sa.Column('id', sa.Integer, primary_key=True)\n",
    "    first_name = sa.Column('first_name', sa.Text)\n",
    "    last_name = sa.Column('last_name', sa.Text)\n",
    "\n",
    "Base.metadata.create_all(engine)\n",
    "\n",
    "engine.echo = True\n",
    "\n"
   ]
  },
  {
   "cell_type": "markdown",
   "metadata": {},
   "source": [
    "And populate their content with records:"
   ]
  },
  {
   "cell_type": "code",
   "execution_count": 49,
   "metadata": {},
   "outputs": [
    {
     "name": "stdout",
     "output_type": "stream",
     "text": [
      "2021-07-26 13:16:05,582 INFO sqlalchemy.engine.Engine BEGIN (implicit)\n",
      "2021-07-26 13:16:05,584 INFO sqlalchemy.engine.Engine INSERT INTO \"order\" (product_id, user_id, qty) VALUES (?, ?, ?)\n",
      "2021-07-26 13:16:05,584 INFO sqlalchemy.engine.Engine [generated in 0.00054s] (1, 42, 9)\n",
      "2021-07-26 13:16:05,585 INFO sqlalchemy.engine.Engine INSERT INTO \"order\" (product_id, user_id, qty) VALUES (?, ?, ?)\n",
      "2021-07-26 13:16:05,585 INFO sqlalchemy.engine.Engine [cached since 0.001671s ago] (1, 42, 2)\n",
      "2021-07-26 13:16:05,586 INFO sqlalchemy.engine.Engine INSERT INTO \"order\" (product_id, user_id, qty) VALUES (?, ?, ?)\n",
      "2021-07-26 13:16:05,586 INFO sqlalchemy.engine.Engine [cached since 0.002639s ago] (1, 13, 2)\n",
      "2021-07-26 13:16:05,587 INFO sqlalchemy.engine.Engine INSERT INTO \"order\" (product_id, user_id, qty) VALUES (?, ?, ?)\n",
      "2021-07-26 13:16:05,587 INFO sqlalchemy.engine.Engine [cached since 0.00366s ago] (2, 13, 3)\n",
      "2021-07-26 13:16:05,588 INFO sqlalchemy.engine.Engine INSERT INTO \"order\" (product_id, user_id, qty) VALUES (?, ?, ?)\n",
      "2021-07-26 13:16:05,588 INFO sqlalchemy.engine.Engine [cached since 0.004528s ago] (2, 13, 20)\n",
      "2021-07-26 13:16:05,590 INFO sqlalchemy.engine.Engine INSERT INTO product (id, name, price) VALUES (?, ?, ?)\n",
      "2021-07-26 13:16:05,591 INFO sqlalchemy.engine.Engine [generated in 0.00138s] ((1, 'Rabbit', 2.1), (2, 'Parrot', 5.1))\n",
      "2021-07-26 13:16:05,594 INFO sqlalchemy.engine.Engine INSERT INTO user (id, first_name, last_name) VALUES (?, ?, ?)\n",
      "2021-07-26 13:16:05,595 INFO sqlalchemy.engine.Engine [generated in 0.00129s] ((42, 'John', 'Cleese'), (43, 'Eric', 'Idle'), (44, 'Terry', 'Jones'), (13, 'Graham', 'Chapman'))\n",
      "2021-07-26 13:16:05,597 INFO sqlalchemy.engine.Engine COMMIT\n"
     ]
    }
   ],
   "source": [
    "\n",
    "session.add(User(id=42, first_name='John', last_name='Cleese'))\n",
    "session.add(User(id=43, first_name='Eric', last_name='Idle'))\n",
    "session.add(User(id=44, first_name='Terry', last_name='Jones'))\n",
    "session.add(User(id=13, first_name='Graham', last_name='Chapman'))\n",
    "session.add(Product(id=1, price=Decimal('2.10'), name='Rabbit'))\n",
    "session.add(Product(id=2, price=Decimal('5.10'), name='Parrot'))\n",
    "session.add(OrderItem(product_id=1, user_id=42, qty=9))\n",
    "session.add(OrderItem(product_id=1, user_id=42, qty=2))\n",
    "session.add(OrderItem(product_id=1, user_id=13, qty=2))\n",
    "session.add(OrderItem(product_id=2, user_id=13, qty=3))\n",
    "session.add(OrderItem(product_id=2, user_id=13, qty=20))\n",
    "session.commit()"
   ]
  },
  {
   "cell_type": "markdown",
   "metadata": {},
   "source": [
    "---\n",
    "\n",
    "This is how we can pull all `User`s first names from the database:"
   ]
  },
  {
   "cell_type": "code",
   "execution_count": 41,
   "metadata": {},
   "outputs": [
    {
     "name": "stdout",
     "output_type": "stream",
     "text": [
      "2021-07-26 13:05:42,664 INFO sqlalchemy.engine.Engine BEGIN (implicit)\n",
      "2021-07-26 13:05:42,665 INFO sqlalchemy.engine.Engine SELECT user.first_name AS user_first_name \n",
      "FROM user\n",
      "2021-07-26 13:05:42,665 INFO sqlalchemy.engine.Engine [generated in 0.00088s] ()\n"
     ]
    },
    {
     "data": {
      "text/plain": [
       "[('Graham',), ('John',), ('Eric',), ('Terry',)]"
      ]
     },
     "execution_count": 41,
     "metadata": {},
     "output_type": "execute_result"
    }
   ],
   "source": [
    "session.query(User.first_name).all()"
   ]
  },
  {
   "cell_type": "markdown",
   "metadata": {},
   "source": [
    "That corresponds roughly to a `SELECT first_name FROM user` in SQL terms."
   ]
  },
  {
   "cell_type": "code",
   "execution_count": 42,
   "metadata": {},
   "outputs": [
    {
     "name": "stdout",
     "output_type": "stream",
     "text": [
      "2021-07-26 13:05:43,940 INFO sqlalchemy.engine.Engine SELECT user.first_name AS user_first_name \n",
      "FROM user \n",
      "WHERE user.id > ?\n",
      "2021-07-26 13:05:43,941 INFO sqlalchemy.engine.Engine [generated in 0.00082s] (15,)\n"
     ]
    },
    {
     "data": {
      "text/plain": [
       "[('John',), ('Eric',), ('Terry',)]"
      ]
     },
     "execution_count": 42,
     "metadata": {},
     "output_type": "execute_result"
    }
   ],
   "source": [
    "session.query(User.first_name).filter(User.id > 15).all()"
   ]
  },
  {
   "cell_type": "markdown",
   "metadata": {},
   "source": [
    "That corresponds roughly to a `SELECT first_name FROM user WHERE ...` in SQL terms."
   ]
  },
  {
   "cell_type": "markdown",
   "metadata": {},
   "source": [
    "---\n",
    "## Exercise 1.\n",
    "\n",
    "Taking the database from the example above, can you write ONE sqlalchemy query that will create an outer join on `Users`, `OrderItems` and `Products` that return the `last_name`, `qty` and `name` from the corresponding tables ?\n",
    "\n",
    "The expected result should look like this:"
   ]
  },
  {
   "cell_type": "code",
   "execution_count": 43,
   "metadata": {
    "jupyter": {
     "source_hidden": true
    },
    "tags": []
   },
   "outputs": [
    {
     "name": "stdout",
     "output_type": "stream",
     "text": [
      "2021-07-26 13:05:47,367 INFO sqlalchemy.engine.Engine SELECT user.last_name AS user_last_name, \"order\".qty AS order_qty, product.name AS product_name \n",
      "FROM user LEFT OUTER JOIN \"order\" ON user.id = \"order\".user_id LEFT OUTER JOIN product ON product.id = \"order\".product_id\n",
      "2021-07-26 13:05:47,368 INFO sqlalchemy.engine.Engine [generated in 0.00091s] ()\n"
     ]
    },
    {
     "data": {
      "text/plain": [
       "[('Chapman', 2, 'Rabbit'),\n",
       " ('Chapman', 3, 'Parrot'),\n",
       " ('Chapman', 20, 'Parrot'),\n",
       " ('Cleese', 2, 'Rabbit'),\n",
       " ('Cleese', 9, 'Rabbit'),\n",
       " ('Idle', None, None),\n",
       " ('Jones', None, None)]"
      ]
     },
     "execution_count": 43,
     "metadata": {},
     "output_type": "execute_result"
    }
   ],
   "source": []
  },
  {
   "cell_type": "markdown",
   "metadata": {},
   "source": [
    "---\n",
    "## Exercise 2.\n",
    "\n",
    "Taking the database from the example above, can you write ONE sqlalchemy query that will create an aggregated result from the query above (sum the products of qty and price accordingly) calculating the value of purchases (grouping) per `User` ? \n",
    "\n",
    "The expected result should look like this:"
   ]
  },
  {
   "cell_type": "code",
   "execution_count": 46,
   "metadata": {
    "jupyter": {
     "source_hidden": true
    },
    "tags": []
   },
   "outputs": [
    {
     "name": "stdout",
     "output_type": "stream",
     "text": [
      "2021-07-26 13:10:05,561 INFO sqlalchemy.engine.Engine SELECT user.last_name AS user_last_name, sum(\"order\".qty * product.price) AS sum_1 \n",
      "FROM user LEFT OUTER JOIN \"order\" ON user.id = \"order\".user_id LEFT OUTER JOIN product ON product.id = \"order\".product_id GROUP BY user.id\n",
      "2021-07-26 13:10:05,561 INFO sqlalchemy.engine.Engine [cached since 23.65s ago] ()\n"
     ]
    },
    {
     "data": {
      "text/plain": [
       "[('Chapman', Decimal('121.50')),\n",
       " ('Cleese', Decimal('23.10')),\n",
       " ('Idle', None),\n",
       " ('Jones', None)]"
      ]
     },
     "execution_count": 46,
     "metadata": {},
     "output_type": "execute_result"
    }
   ],
   "source": []
  }
 ],
 "metadata": {
  "kernelspec": {
   "display_name": "Python 3",
   "language": "python",
   "name": "python3"
  },
  "language_info": {
   "codemirror_mode": {
    "name": "ipython",
    "version": 3
   },
   "file_extension": ".py",
   "mimetype": "text/x-python",
   "name": "python",
   "nbconvert_exporter": "python",
   "pygments_lexer": "ipython3",
   "version": "3.9.1"
  }
 },
 "nbformat": 4,
 "nbformat_minor": 4
}
